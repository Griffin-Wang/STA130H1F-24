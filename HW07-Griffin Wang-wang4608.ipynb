{
 "cells": [
  {
   "cell_type": "markdown",
   "id": "a2c99b91",
   "metadata": {},
   "source": [
    "### 4. Explain the apparent contradiction between the factual statements regarding the fit below that \"the model only explains 17.6% of the variability in the data\" while at the same time \"many of the *coefficients* are larger than 10 while having *strong* or *very strong evidence against* the *null hypothesis* of 'no effect'\"<br>\n"
   ]
  },
  {
   "cell_type": "markdown",
   "id": "730e8d37",
   "metadata": {},
   "source": [
    "The R-square shows the general explanatory power of the model for y while p-value only depict the relationship between one variable and y. "
   ]
  },
  {
   "cell_type": "markdown",
   "id": "0dca4a18",
   "metadata": {},
   "source": [
    "### 7. Discuss with a ChatBot the rationale and principles by which *model5_linear_form* is  extended and developed from *model3_fit* and *model4_fit*; *model6_linear_form* is  extended and developed from *model5_linear_form*; and *model7_linear_form* is  extended and developed from *model6_linear_form*; then, explain this breifly and consisely in your own words<br>\n"
   ]
  },
  {
   "cell_type": "markdown",
   "id": "c0542d3f",
   "metadata": {},
   "source": [
    "The model 5 is comprehensive, but there are too many predictors which may cause overfitting. By contract, model 6 is simplified, it could have a better generalization due to fewer predictors. Model 7 can be the best one since it is more balance.\n"
   ]
  },
  {
   "cell_type": "markdown",
   "id": "e13e7889",
   "metadata": {},
   "source": [
    "### 9. Work with a ChatBot to understand the meaning of the illustration below; and, explain this in your own words<br>\n"
   ]
  },
  {
   "cell_type": "markdown",
   "id": "8fedb16c",
   "metadata": {},
   "source": [
    "The meaning of this illustration is to inform the generalization of different generations of pokemon. This will figrue out if the older pokeman do not have big difference with new generations. To make the game fairer, if the result can be predicted, there is no big change."
   ]
  },
  {
   "cell_type": "markdown",
   "id": "6feef7d3",
   "metadata": {},
   "source": [
    "https://chatgpt.com/share/6736faa0-66cc-8006-9291-1f24a94f9a39"
   ]
  },
  {
   "cell_type": "code",
   "execution_count": null,
   "id": "bf8906d0",
   "metadata": {},
   "outputs": [],
   "source": []
  }
 ],
 "metadata": {
  "kernelspec": {
   "display_name": "Python 3 (ipykernel)",
   "language": "python",
   "name": "python3"
  },
  "language_info": {
   "codemirror_mode": {
    "name": "ipython",
    "version": 3
   },
   "file_extension": ".py",
   "mimetype": "text/x-python",
   "name": "python",
   "nbconvert_exporter": "python",
   "pygments_lexer": "ipython3",
   "version": "3.11.6"
  }
 },
 "nbformat": 4,
 "nbformat_minor": 5
}
