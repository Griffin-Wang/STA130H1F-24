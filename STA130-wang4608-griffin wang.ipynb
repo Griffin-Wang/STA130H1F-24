{
 "cells": [
  {
   "cell_type": "markdown",
   "id": "fee58f96",
   "metadata": {},
   "source": [
    "##### 1. The \"Pre-lecture\" video (above) mentioned the \"standard error of the mean\" as being the \"standard deviation\" of the distribution bootstrapped means.  What is the difference between the \"standard error of the mean\" and the \"standard deviation\" of the original data? What distinct ideas do each of these capture? Explain this concisely in your own words.<br>"
   ]
  },
  {
   "cell_type": "markdown",
   "id": "1dbe339d",
   "metadata": {},
   "source": [
    "### The standard deviation is the average distance between every single datas and the mean, it is aiming to check out the dispersion of a data set. The standard error of the mean is the precision of estimation of the sample mean. \n",
    "### As for the theory of standard deviation, it's the result of the variability of  single data, the index shows how spread out of a dataset. By contrast, while using the mean of a sample to estimate the overall mean, standard erroe shows how accurate the estimation are.\n",
    "##### ChatGPT https://chatgpt.com/share/66ff3ecb-db50-8006-992a-4ad2e1c340cc In this conversation, we explored the difference between **Standard Deviation (SD)** and **Standard Error of the Mean (SEM)**:\n",
    "\n",
    "- **Standard Deviation (SD)** measures the spread or variability of individual data points within a dataset, showing how far each data point is from the mean.\n",
    "- **Standard Error of the Mean (SEM)** measures how accurately the sample mean estimates the population mean, decreasing as the sample size increases.\n",
    "\n",
    "We also applied these concepts to a sample dataset, calculated both the SD and SEM, and discussed the distinct ideas behind each. The SD describes the variability of the data, while the SEM focuses on the precision of the sample mean as an estimate of the population mean."
   ]
  },
  {
   "cell_type": "markdown",
   "id": "c14b0a64",
   "metadata": {},
   "source": [
    "##### 2. The \"Pre-lecture\" video (above) suggested that the \"standard error of the mean\" could be used to create a confidence interval, but didn't describe exactly how to do this.  How can we use the \"standard error of the mean\" to create a 95% confidence interval which \"covers 95% of the bootstrapped sample means\"? Explain this concisely in your own words.<br>"
   ]
  },
  {
   "cell_type": "markdown",
   "id": "b2ef01c9",
   "metadata": {},
   "source": [
    "### The first step is to calculate the standard error of the mean, then based on standard deviation, the 95% is occur bettween the scale of two. Thus, the lower bound is sample mean - (2 × SEM) and the upper bound is sample mean + (2 × SEM).\n"
   ]
  },
  {
   "cell_type": "markdown",
   "id": "6d91282e",
   "metadata": {},
   "source": [
    "##### 3. Creating the \"sample mean plus and minus about 2 times the standard error\" confidence interval addressed in the previous problem should indeed cover approximately 95% of the bootstrapped sample means. Alternatively, how do we create a 95% bootstrapped confidence interval using the bootstrapped means (without using their standard deviation to estimate the standard error of the mean)? Explain this concisely in your own words.<br>"
   ]
  },
  {
   "cell_type": "markdown",
   "id": "51d340e2",
   "metadata": {},
   "source": [
    "### Draw multiple sample with the same size with the original dataset randomly. Order the calculated mean of each bootstrap sample as ascending. Therefore, the lower bound is the 2.5th percentile of bootstrapped mean and the upper bound is the 97.5 pencentilen of bootstrapped mean."
   ]
  },
  {
   "cell_type": "markdown",
   "id": "2a941dc1",
   "metadata": {},
   "source": [
    "##### 4. The \"Pre-lecture\" video (above) mentioned that bootstrap confidence intervals could apply to other statistics of the sample, such as the \"median\". Work with a ChatBot to create code to produce a 95% bootstrap confidence interval for a population mean based on a sample that you have and comment the code to demonstrate how the code can be changed to produce a 95% bootstrap confidence interval for different population parameter (other than the population mean, such as the population median).<br>\n"
   ]
  },
  {
   "cell_type": "code",
   "execution_count": 16,
   "id": "89a8d3ea",
   "metadata": {},
   "outputs": [
    {
     "name": "stdout",
     "output_type": "stream",
     "text": [
      "95% Bootstrap Confidence Interval for the Mean: [55.3975, 310.91999999999996]\n",
      "95% Bootstrap Confidence Interval for the Median: [42.0, 152.74999999999977]\n"
     ]
    }
   ],
   "source": [
    "import numpy as np\n",
    "\n",
    "# Random dataset\n",
    "sample = np.array([31, 233, 30, 42, 53, 61, 72, 833, 92, 101])\n",
    "\n",
    "# Times to generate\n",
    "n_bootstrap_samples = 1000\n",
    "\n",
    "# Initialize an blank array \n",
    "bootstrap_means = []\n",
    "\n",
    "# Perform bootstrap sampling\n",
    "for _ in range(n_bootstrap_samples):\n",
    "    # Randomly sample with replacement from the original sample\n",
    "    bootstrap_sample = np.random.choice(sample, size=len(sample), replace=True)\n",
    "    \n",
    "    # Compute the statistic of interest \n",
    "    bootstrap_means.append(np.mean(bootstrap_sample))\n",
    "\n",
    "# Compute the 95% confidence interval for the mean\n",
    "lower_bound = np.percentile(bootstrap_means, 2.5)\n",
    "upper_bound = np.percentile(bootstrap_means, 97.5)\n",
    "\n",
    "# Print the confidence interval\n",
    "print(f\"95% Bootstrap Confidence Interval for the Mean: [{lower_bound}, {upper_bound}]\")\n",
    "\n",
    "\n",
    "\n",
    "bootstrap_medians = []\n",
    "\n",
    "for _ in range(n_bootstrap_samples):\n",
    "    bootstrap_sample = np.random.choice(sample, size=len(sample), replace=True)\n",
    "    \n",
    "    # Compute the statistic of interest\n",
    "    bootstrap_medians.append(np.median(bootstrap_sample))\n",
    "\n",
    "# The 95% CI\n",
    "lower_bound_median = np.percentile(bootstrap_medians, 2.5)\n",
    "upper_bound_median = np.percentile(bootstrap_medians, 97.5)\n",
    "\n",
    "# Result\n",
    "print(f\"95% Bootstrap Confidence Interval for the Median: [{lower_bound_median}, {upper_bound_median}]\")\n"
   ]
  },
  {
   "cell_type": "markdown",
   "id": "87f5592e",
   "metadata": {},
   "source": [
    "##### ChatGPT: This code generates a 95% bootstrap confidence interval for the population mean based on a sample. It works by repeatedly sampling with replacement from the original data and calculating the mean for each bootstrap sample. The confidence interval is determined by the 2.5th and 97.5th percentiles of these bootstrap means.To adapt this code for other population parameters, such as the median, simply replace the `np.mean()` function with the corresponding statistic (e.g., `np.median()` for the median). The rest of the process remains the same."
   ]
  },
  {
   "cell_type": "markdown",
   "id": "222bec34",
   "metadata": {},
   "source": [
    "##### 5. The previous question addresses making a confidence interval for a population parameter based on a sample statistic. Why do we need to distinguish between the role of the popualation parameter and the sample sample statistic when it comes to confidence intervals? Explain this concisely in your own words.<br>\n"
   ]
  },
  {
   "cell_type": "markdown",
   "id": "bf1808f4",
   "metadata": {},
   "source": [
    "### We need to use the Confidence Interval to figure out the population parameter based on the sample. We should know that the sample is just a reference instead of the specifc data."
   ]
  },
  {
   "cell_type": "markdown",
   "id": "7821f9f7",
   "metadata": {},
   "source": [
    "##### 6. Provide written answers explaining the answers to the following questions in an informal manner of a conversation with a friend with little experience with statistics. <br>\n",
    "\n",
    "1. What is the process of bootstrapping? \n",
    "2. What is the main purpose of bootstrapping? \n",
    "3. If you had a (hypothesized) guess about what the average of a population was, and you had a sample of size n from that population, how could you use bootstrapping to assess whether or not your (hypothesized) guess might be plausible?"
   ]
  },
  {
   "cell_type": "markdown",
   "id": "a72d3f11",
   "metadata": {},
   "source": [
    "1. The process of bootstrapping is a resampling way to estimate the disturibution of data. The first step is to pick up a random sample and calculate the interested statistics. Then the first step will be operate more than a thousand times. Finally, the results of all sample we got is helpful to calculate the properties.\n",
    "\n",
    "2. By resampling with replacement, we do not need to know the entire dataset but also have the distribution. Because we already used a large amount of simulation to let the inferred result is close to accurate result. \n",
    "\n",
    "3. I can use the bootstrapping to get the confidence interval then check if my guess is in the interval."
   ]
  },
  {
   "cell_type": "markdown",
   "id": "b41ef385",
   "metadata": {},
   "source": [
    "##### 7. The \"Pre-lecture\" video (above) introduced hypothesis testing by saying that \"the confidence interval covers zero, so we cannot reject the hypothesis that the drug is **[on average]** not doing anything\".  This conclusion could be referred to as \"failing to reject the null hypothesis\", where the term \"null\" refers to the concept of \"no effect **[on average]**\".  Why does a confidence interval overlapping zero \"fail to reject the null hypothesis\" when the observed sample mean statistic itself is not zero? Alternatively, what would lead to the opposite conclusion in this context; namely, instead choosing \"to reject the null hypothesis\"? Explain the answers to these questions concisely in your own words.<br>\n"
   ]
  },
  {
   "cell_type": "code",
   "execution_count": null,
   "id": "55e1fd01",
   "metadata": {},
   "outputs": [],
   "source": []
  },
  {
   "cell_type": "markdown",
   "id": "69e5144e",
   "metadata": {},
   "source": [
    "##### 8. Complete the following assignment. \n"
   ]
  },
  {
   "cell_type": "code",
   "execution_count": 19,
   "id": "f8153c4e",
   "metadata": {},
   "outputs": [],
   "source": [
    "import pandas as pd\n",
    "data = {\n",
    "    'PatientID': [1, 2, 3, 4, 5, 6, 7, 8, 9, 10],\n",
    "    'Age': [45, 34, 29, 52, 37, 41, 33, 48, 26, 39],\n",
    "    'Gender': ['M', 'F', 'M', 'F', 'M', 'F', 'M', 'F', 'M', 'F'],\n",
    "    'InitialHealthScore': [84, 78, 83, 81, 81, 80, 79, 85, 76, 83],\n",
    "    'FinalHealthScore': [86, 86, 80, 86, 84, 86, 86, 82, 83, 84]\n",
    "}\n",
    "\n",
    "df = pd.DataFrame(data)"
   ]
  },
  {
   "cell_type": "code",
   "execution_count": 21,
   "id": "15996962",
   "metadata": {
    "scrolled": true
   },
   "outputs": [
    {
     "name": "stdout",
     "output_type": "stream",
     "text": [
      "   PatientID  Age Gender  InitialHealthScore  FinalHealthScore\n",
      "0          1   45      M                  84                86\n",
      "1          2   34      F                  78                86\n",
      "2          3   29      M                  83                80\n",
      "3          4   52      F                  81                86\n",
      "4          5   37      M                  81                84\n",
      "5          6   41      F                  80                86\n",
      "6          7   33      M                  79                86\n",
      "7          8   48      F                  85                82\n",
      "8          9   26      M                  76                83\n",
      "9         10   39      F                  83                84\n"
     ]
    }
   ],
   "source": [
    "print(df)"
   ]
  },
  {
   "cell_type": "code",
   "execution_count": 22,
   "id": "44e82648",
   "metadata": {},
   "outputs": [],
   "source": [
    "df[\"d\"]=df.FinalHealthScore-df.InitialHealthScore "
   ]
  },
  {
   "cell_type": "code",
   "execution_count": 23,
   "id": "9a8b2d38",
   "metadata": {},
   "outputs": [
    {
     "data": {
      "text/html": [
       "<div>\n",
       "<style scoped>\n",
       "    .dataframe tbody tr th:only-of-type {\n",
       "        vertical-align: middle;\n",
       "    }\n",
       "\n",
       "    .dataframe tbody tr th {\n",
       "        vertical-align: top;\n",
       "    }\n",
       "\n",
       "    .dataframe thead th {\n",
       "        text-align: right;\n",
       "    }\n",
       "</style>\n",
       "<table border=\"1\" class=\"dataframe\">\n",
       "  <thead>\n",
       "    <tr style=\"text-align: right;\">\n",
       "      <th></th>\n",
       "      <th>PatientID</th>\n",
       "      <th>Age</th>\n",
       "      <th>Gender</th>\n",
       "      <th>InitialHealthScore</th>\n",
       "      <th>FinalHealthScore</th>\n",
       "      <th>d</th>\n",
       "    </tr>\n",
       "  </thead>\n",
       "  <tbody>\n",
       "    <tr>\n",
       "      <th>0</th>\n",
       "      <td>1</td>\n",
       "      <td>45</td>\n",
       "      <td>M</td>\n",
       "      <td>84</td>\n",
       "      <td>86</td>\n",
       "      <td>2</td>\n",
       "    </tr>\n",
       "    <tr>\n",
       "      <th>1</th>\n",
       "      <td>2</td>\n",
       "      <td>34</td>\n",
       "      <td>F</td>\n",
       "      <td>78</td>\n",
       "      <td>86</td>\n",
       "      <td>8</td>\n",
       "    </tr>\n",
       "    <tr>\n",
       "      <th>2</th>\n",
       "      <td>3</td>\n",
       "      <td>29</td>\n",
       "      <td>M</td>\n",
       "      <td>83</td>\n",
       "      <td>80</td>\n",
       "      <td>-3</td>\n",
       "    </tr>\n",
       "    <tr>\n",
       "      <th>3</th>\n",
       "      <td>4</td>\n",
       "      <td>52</td>\n",
       "      <td>F</td>\n",
       "      <td>81</td>\n",
       "      <td>86</td>\n",
       "      <td>5</td>\n",
       "    </tr>\n",
       "    <tr>\n",
       "      <th>4</th>\n",
       "      <td>5</td>\n",
       "      <td>37</td>\n",
       "      <td>M</td>\n",
       "      <td>81</td>\n",
       "      <td>84</td>\n",
       "      <td>3</td>\n",
       "    </tr>\n",
       "    <tr>\n",
       "      <th>5</th>\n",
       "      <td>6</td>\n",
       "      <td>41</td>\n",
       "      <td>F</td>\n",
       "      <td>80</td>\n",
       "      <td>86</td>\n",
       "      <td>6</td>\n",
       "    </tr>\n",
       "    <tr>\n",
       "      <th>6</th>\n",
       "      <td>7</td>\n",
       "      <td>33</td>\n",
       "      <td>M</td>\n",
       "      <td>79</td>\n",
       "      <td>86</td>\n",
       "      <td>7</td>\n",
       "    </tr>\n",
       "    <tr>\n",
       "      <th>7</th>\n",
       "      <td>8</td>\n",
       "      <td>48</td>\n",
       "      <td>F</td>\n",
       "      <td>85</td>\n",
       "      <td>82</td>\n",
       "      <td>-3</td>\n",
       "    </tr>\n",
       "    <tr>\n",
       "      <th>8</th>\n",
       "      <td>9</td>\n",
       "      <td>26</td>\n",
       "      <td>M</td>\n",
       "      <td>76</td>\n",
       "      <td>83</td>\n",
       "      <td>7</td>\n",
       "    </tr>\n",
       "    <tr>\n",
       "      <th>9</th>\n",
       "      <td>10</td>\n",
       "      <td>39</td>\n",
       "      <td>F</td>\n",
       "      <td>83</td>\n",
       "      <td>84</td>\n",
       "      <td>1</td>\n",
       "    </tr>\n",
       "  </tbody>\n",
       "</table>\n",
       "</div>"
      ],
      "text/plain": [
       "   PatientID  Age Gender  InitialHealthScore  FinalHealthScore  d\n",
       "0          1   45      M                  84                86  2\n",
       "1          2   34      F                  78                86  8\n",
       "2          3   29      M                  83                80 -3\n",
       "3          4   52      F                  81                86  5\n",
       "4          5   37      M                  81                84  3\n",
       "5          6   41      F                  80                86  6\n",
       "6          7   33      M                  79                86  7\n",
       "7          8   48      F                  85                82 -3\n",
       "8          9   26      M                  76                83  7\n",
       "9         10   39      F                  83                84  1"
      ]
     },
     "execution_count": 23,
     "metadata": {},
     "output_type": "execute_result"
    }
   ],
   "source": [
    "df"
   ]
  },
  {
   "cell_type": "code",
   "execution_count": 24,
   "id": "8d9d3015",
   "metadata": {},
   "outputs": [
    {
     "data": {
      "image/png": "[encoded data removed]",
      "text/plain": [
       "<Figure size 800x600 with 1 Axes>"
      ]
     },
     "metadata": {},
     "output_type": "display_data"
    }
   ],
   "source": [
    "import matplotlib.pyplot as plt\n",
    "import seaborn as sns\n",
    "plt.figure(figsize=(8, 6))\n",
    "sns.boxplot(data=df[['InitialHealthScore', 'FinalHealthScore']])\n",
    "plt.title('Boxplot of Initial and Final Health Scores')\n",
    "plt.ylabel('Health Score')\n",
    "plt.show()\n"
   ]
  },
  {
   "cell_type": "code",
   "execution_count": 32,
   "id": "881a0d72",
   "metadata": {},
   "outputs": [
    {
     "data": {
      "application/vnd.plotly.v1+json": {
       "config": {
        "plotlyServerURL": "https://plot.ly"
       },
       "data": [
        {
         "alignmentgroup": "True",
         "bingroup": "x",
         "hovertemplate": "x=%{x}<br>count=%{y}<extra></extra>",
         "legendgroup": "",
         "marker": {
          "color": "#636efa",
          "pattern": {
           "shape": ""
          }
         },
         "name": "",
         "offsetgroup": "",
         "orientation": "v",
         "showlegend": false,
         "type": "histogram",
         "x": [
          3.2,
          3,
          3.8,
          3.4,
          3.4,
          4.3,
          2.8,
          3.3,
          2.2,
          3.6,
          3.9,
          3,
          3.5,
          2,
          2.4,
          2.9,
          2.7,
          3.8,
          3.7,
          1.4,
          3.7,
          4.7,
          2.3,
          1.6,
          4.3,
          5.3,
          3.4,
          2.7,
          3,
          3.9,
          3.5,
          2.8,
          3.8,
          2.4,
          2.5,
          4,
          1.1,
          2.9,
          4.3,
          2.6,
          2.4,
          5.3,
          2.7,
          3.2,
          2.2,
          3.1,
          3.4,
          3.7,
          1.7,
          4.4,
          3.7,
          2.5,
          2.7,
          2.9,
          1.2,
          3.3,
          5.4,
          4.3,
          5.3,
          -0.8,
          4.8,
          1.5,
          4.6,
          4.6,
          3.2,
          2.2,
          1.5,
          3.8,
          1.7,
          4.7,
          3.6,
          2.5,
          3.3,
          3.3,
          4.7,
          1.5,
          2.4,
          0.9,
          4.2,
          4.2,
          2.5,
          3,
          2,
          4.2,
          3.6,
          3.7,
          2.4,
          3.4,
          4,
          4.8,
          2.6,
          4.8,
          1.9,
          4,
          3.6,
          4.4,
          0.7,
          3.5,
          4.6,
          2.9,
          2.8,
          1.3,
          0.7,
          4.1,
          2.1,
          3.6,
          3.9,
          2.8,
          3.1,
          3.1,
          5.3,
          4.8,
          2.9,
          4.2,
          3.7,
          3.3,
          3.6,
          2.5,
          2.8,
          3.4,
          2.9,
          4.3,
          2.9,
          5.4,
          1.3,
          4.8,
          2.1,
          3.5,
          2.2,
          5,
          4.1,
          5.3,
          4.4,
          3,
          2.3,
          3.3,
          2.8,
          1.7,
          5.4,
          1.8,
          4.4,
          3.7,
          4.7,
          4.3,
          4.9,
          2.5,
          2.9,
          3.5,
          4.9,
          5.4,
          1.9,
          2.1,
          0.9,
          3.1,
          1,
          2.9,
          4.2,
          2.1,
          1,
          2.9,
          2.4,
          5.4,
          4.8,
          3.2,
          3.6,
          2.5,
          5.7,
          2.2,
          4.8,
          2.8,
          1.9,
          4.1,
          2.4,
          2.4,
          2.9,
          4.2,
          3.3,
          3.3,
          2.5,
          2,
          3,
          2.9,
          3.9,
          5.1,
          4.8,
          3,
          2.3,
          4.3,
          2.4,
          2.9,
          3.5,
          2.4,
          1,
          3.2,
          3.1,
          2.4,
          2.6,
          2.7,
          4.4,
          4.5,
          4.3,
          4.6,
          3.4,
          4.3,
          3.5,
          5.6,
          5.7,
          2.2,
          4.1,
          2.8,
          3.8,
          3.2,
          3.7,
          3,
          3,
          3.3,
          5.2,
          4.3,
          0.9,
          5.2,
          2.8,
          3.9,
          2.9,
          2.1,
          4.4,
          5,
          2.3,
          2.5,
          3.6,
          2.9,
          1.5,
          0,
          4.8,
          2.6,
          4,
          3.6,
          1.2,
          3.6,
          4.9,
          4.5,
          2.7,
          4.6,
          2.5,
          3.7,
          3.9,
          1.9,
          3.7,
          4,
          2.6,
          1.9,
          1.3,
          5.1,
          2.8,
          3.8,
          3.3,
          1.9,
          4.1,
          3,
          4.4,
          2.9,
          2.8,
          0.2,
          5.5,
          2.7,
          4.9,
          4.6,
          3.9,
          2.4,
          4.3,
          3.7,
          4.4,
          3.4,
          3.6,
          2.7,
          4.3,
          3.4,
          1.4,
          2.2,
          4.2,
          4.3,
          2.4,
          1.3,
          3.3,
          4.8,
          2.5,
          3.2,
          4.5,
          4.9,
          1.7,
          2.8,
          3.3,
          3.6,
          3,
          4.5,
          3.8,
          4.1,
          2.1,
          5.8,
          3,
          4.2,
          3.5,
          4.6,
          1,
          3.3,
          2.8,
          3.2,
          2.1,
          3.4,
          2.7,
          2.2,
          3.8,
          4.7,
          3.6,
          2.4,
          3.8,
          3,
          1.8,
          2.5,
          1.8,
          2.6,
          5.5,
          2.4,
          3.7,
          4.6,
          3.9,
          2.4,
          3,
          5,
          3.7,
          4.1,
          2.3,
          3.5,
          3.6,
          4,
          2.8,
          2.5,
          4.7,
          2.3,
          3.9,
          3.6,
          2.5,
          2.6,
          3.9,
          2.9,
          4.8,
          4,
          3.5,
          3.5,
          3.3,
          2,
          3.2,
          3.3,
          4.8,
          2.4,
          1.6,
          3.6,
          3.7,
          4.6,
          3.1,
          2.6,
          4.6,
          1.2,
          5.5,
          2.7,
          2.9,
          1.4,
          4.1,
          4,
          3.9,
          1.4,
          1.5,
          3.9,
          4.1,
          2.7,
          4.8,
          5.6,
          2.4,
          1.6,
          2.8,
          1.7,
          4.1,
          3.1,
          1.1,
          2.2,
          3.5,
          3.2,
          3.6,
          3.1,
          3.9,
          3.4,
          2,
          4.5,
          2,
          3.6,
          5.7,
          2.7,
          3,
          4.9,
          5,
          2.2,
          2.9,
          4.2,
          3.3,
          4.5,
          3.2,
          1.9,
          5.2,
          5.2,
          3.5,
          3.3,
          1.5,
          2.1,
          3.9,
          1.5,
          2.4,
          4.4,
          1.7,
          2.4,
          4.3,
          4.9,
          2.1,
          2.8,
          3.7,
          3.6,
          3.5,
          5,
          2.8,
          3.6,
          3.3,
          1.7,
          2.4,
          3.9,
          2.5,
          3.7,
          3.7,
          3.5,
          3.6,
          4.3,
          2,
          1.2,
          2.8,
          4.1,
          3.5,
          2.2,
          4,
          2.4,
          4.6,
          5.1,
          3,
          4.7,
          3.1,
          3.4,
          3.6,
          3.1,
          4.2,
          2.8,
          3.6,
          3.4,
          4.3,
          4,
          2.8,
          1.1,
          2.8,
          3.4,
          2.8,
          2.8,
          3.1,
          2.1,
          3,
          2.7,
          2.8,
          2.4,
          2.1,
          3.7,
          3.9,
          5.2,
          3.2,
          3.8,
          4.1,
          3.4,
          2.3,
          3.2,
          3.9,
          2.5,
          3.2,
          5.2,
          2.8,
          3.5,
          4.8,
          2.3,
          3.9,
          1,
          2.6,
          4.3,
          4.2,
          2.2,
          4,
          5.5,
          6,
          3.7,
          3.1,
          3.5,
          4.3,
          1.4,
          3.5,
          2.8,
          4.4,
          2.5,
          2.8,
          3.1,
          2.8,
          3.2,
          5.3,
          3.3,
          2.3,
          4,
          5.4,
          4.7,
          5.7,
          4,
          3.6,
          4.1,
          5.5,
          3.2,
          2.5,
          2.8,
          4.5,
          3.6,
          3.2,
          4.1,
          3.7,
          1.4,
          2.2,
          3.3,
          1.7,
          3.9,
          4.8,
          3.1,
          1.3,
          4.1,
          4.6,
          2,
          5.6,
          4.3,
          5,
          0.7,
          3,
          3.8,
          0.8,
          2.9,
          2.6,
          5,
          4.2,
          4.2,
          2.9,
          2.5,
          2.7,
          4,
          0.4,
          4.2,
          3.6,
          4.3,
          0.8,
          3.5,
          2,
          3.7,
          2.2,
          2,
          2.6,
          2,
          2.9,
          3,
          3.6,
          3.5,
          5.6,
          5.1,
          1.1,
          4.6,
          2.4,
          3.7,
          3.2,
          3.4,
          2.3,
          3.6,
          2.5,
          4.2,
          1.8,
          4.2,
          3.7,
          2.1,
          2.9,
          2.6,
          3.9,
          2.1,
          4.1,
          4.3,
          3.7,
          2.2,
          3.5,
          3.1,
          1.1,
          3.5,
          3.6,
          3,
          2.1,
          2.8,
          4.1,
          3,
          3.6,
          4.6,
          4.2,
          5.9,
          3.7,
          3.8,
          2.4,
          2.9,
          3.3,
          3,
          2.7,
          3.2,
          3.7,
          2.3,
          4.4,
          3.6,
          4,
          2.7,
          5.2,
          3.5,
          2.6,
          4.2,
          2.9,
          3.9,
          4.7,
          2.8,
          2.7,
          1.8,
          2.5,
          2.4,
          3.9,
          5,
          2.5,
          1,
          4.1,
          3.2,
          2.3,
          2.5,
          5.2,
          2.8,
          3.2,
          1.4,
          5.2,
          2.6,
          3.3,
          4.1,
          3.2,
          1.9,
          2.6,
          4.6,
          3.1,
          2.1,
          2.3,
          3.8,
          4.2,
          2.6,
          3.5,
          3.9,
          4,
          5.7,
          2.4,
          4.4,
          4.7,
          4,
          2.3,
          4.9,
          2,
          1.7,
          4,
          2.8,
          4.1,
          3.5,
          4.3,
          1.9,
          4.2,
          3.9,
          1.4,
          4.1,
          3,
          2.9,
          2.9,
          4.8,
          1.8,
          2,
          1.9,
          3.1,
          3,
          4,
          3.7,
          0.3,
          1.3,
          0.2,
          4.4,
          4.9,
          2.6,
          2.6,
          3.9,
          3.2,
          4.3,
          5.2,
          3.3,
          1.9,
          3.4,
          0.4,
          2.5,
          2.4,
          0.6,
          3.8,
          3.9,
          1.5,
          1.1,
          2.4,
          4.4,
          4.9,
          1.1,
          5.9,
          4.2,
          3.4,
          3.7,
          2.9,
          3.5,
          2.9,
          1.4,
          4.9,
          5,
          1.5,
          2.7,
          3.9,
          1.5,
          2.8,
          3.1,
          2.3,
          5.2,
          2.5,
          4.6,
          3.1,
          4,
          4.1,
          1.7,
          4.9,
          4.5,
          0.5,
          1.4,
          -0.5,
          3.3,
          2.4,
          3.1,
          2.8,
          0.6,
          4,
          1,
          4.3,
          1.8,
          3.4,
          2.3,
          2.8,
          3.3,
          3.4,
          2.7,
          -0.7,
          3.7,
          1.6,
          3.5,
          4.5,
          2.2,
          4.9,
          3.5,
          2.9,
          5.2,
          2.6,
          1.8,
          2.4,
          4.3,
          1.9,
          4,
          1.4,
          2.9,
          2.2,
          3.3,
          3,
          4,
          2.9,
          2.1,
          3.6,
          4.2,
          2.7,
          2.8,
          4.3,
          5.4,
          0.3,
          2.5,
          3.1,
          2.8,
          3.9,
          3.4,
          2.5,
          3.2,
          4.3,
          3.9,
          4.6,
          4,
          3.4,
          3.1,
          4.3,
          4.4,
          3,
          3.5,
          3.7,
          4.8,
          4.6,
          4.3,
          4.1,
          3,
          4.1,
          2.8,
          4.4,
          4,
          1.9,
          1.8,
          4.6,
          2.1,
          3.8,
          3.6,
          3.4,
          2.6,
          0.2,
          4.4,
          2.1,
          4.8,
          1.5,
          2.5,
          4.4,
          2.8,
          1.7,
          5.4,
          3.9,
          4.4,
          0.3,
          3.7,
          4.3,
          2,
          2.9,
          2,
          4.1,
          4.5,
          2.7,
          0.8,
          5.1,
          4.2,
          3.2,
          3.1,
          3.3,
          1,
          5.6,
          1.6,
          5.4,
          1.3,
          0.3,
          3.9,
          3.1,
          4.5,
          3.1,
          4.3,
          2.1,
          4.2,
          3.2,
          3.4,
          4.1,
          4.7,
          3.2,
          4.3,
          3.1,
          2.1,
          4.1,
          1.1,
          3.2,
          4,
          3.1,
          4.6,
          5,
          4.6,
          4.4,
          3.4,
          2.5,
          2.9,
          2.6,
          2.3,
          3.7,
          4.2,
          1.7,
          2.2,
          2.8,
          1.9,
          3.9,
          5.1,
          3.3,
          2.2,
          4.1,
          3,
          4.2,
          4.8,
          2.7,
          3.8,
          3.5,
          4.4,
          3.5,
          2.6,
          4.9,
          3.8,
          5.6,
          3.2,
          3.8,
          4.5,
          3.8,
          4,
          3.6,
          3.2,
          1.9,
          3,
          4,
          2,
          3.9,
          3.6,
          4.6,
          3.5,
          4.6,
          4.4,
          3.5,
          3.1,
          5.9,
          2.8,
          2.1,
          4.4,
          1.5,
          2.9,
          5,
          1.5,
          5.3,
          3.9,
          2.3,
          2.3,
          2,
          3.7,
          3,
          2.5,
          3,
          2.1,
          4.5,
          4.4,
          3.9,
          3.3,
          3.1,
          2.5,
          5.2,
          1.8,
          2.6,
          4.7,
          3.9,
          2.3,
          1.6,
          3.3,
          3.7,
          4.6,
          1,
          3.2,
          4,
          6.1,
          2,
          5.1,
          3.5,
          4.8,
          2.4,
          2.6,
          4.8,
          3.4,
          4.5,
          3.5,
          4,
          2.2,
          2.9,
          3.2,
          5.3,
          2.8,
          4.8,
          2.7,
          2.7,
          3,
          3.3,
          2.4,
          1.3,
          2.6,
          4.1
         ],
         "xaxis": "x",
         "yaxis": "y"
        }
       ],
       "layout": {
        "barmode": "relative",
        "legend": {
         "tracegroupgap": 0
        },
        "margin": {
         "t": 60
        },
        "template": {
         "data": {
          "bar": [
           {
            "error_x": {
             "color": "#2a3f5f"
            },
            "error_y": {
             "color": "#2a3f5f"
            },
            "marker": {
             "line": {
              "color": "#E5ECF6",
              "width": 0.5
             },
             "pattern": {
              "fillmode": "overlay",
              "size": 10,
              "solidity": 0.2
             }
            },
            "type": "bar"
           }
          ],
          "barpolar": [
           {
            "marker": {
             "line": {
              "color": "#E5ECF6",
              "width": 0.5
             },
             "pattern": {
              "fillmode": "overlay",
              "size": 10,
              "solidity": 0.2
             }
            },
            "type": "barpolar"
           }
          ],
          "carpet": [
           {
            "aaxis": {
             "endlinecolor": "#2a3f5f",
             "gridcolor": "white",
             "linecolor": "white",
             "minorgridcolor": "white",
             "startlinecolor": "#2a3f5f"
            },
            "baxis": {
             "endlinecolor": "#2a3f5f",
             "gridcolor": "white",
             "linecolor": "white",
             "minorgridcolor": "white",
             "startlinecolor": "#2a3f5f"
            },
            "type": "carpet"
           }
          ],
          "choropleth": [
           {
            "colorbar": {
             "outlinewidth": 0,
             "ticks": ""
            },
            "type": "choropleth"
           }
          ],
          "contour": [
           {
            "colorbar": {
             "outlinewidth": 0,
             "ticks": ""
            },
            "colorscale": [
             [
              0,
              "#0d0887"
             ],
             [
              0.1111111111111111,
              "#46039f"
             ],
             [
              0.2222222222222222,
              "#7201a8"
             ],
             [
              0.3333333333333333,
              "#9c179e"
             ],
             [
              0.4444444444444444,
              "#bd3786"
             ],
             [
              0.5555555555555556,
              "#d8576b"
             ],
             [
              0.6666666666666666,
              "#ed7953"
             ],
             [
              0.7777777777777778,
              "#fb9f3a"
             ],
             [
              0.8888888888888888,
              "#fdca26"
             ],
             [
              1,
              "#f0f921"
             ]
            ],
            "type": "contour"
           }
          ],
          "contourcarpet": [
           {
            "colorbar": {
             "outlinewidth": 0,
             "ticks": ""
            },
            "type": "contourcarpet"
           }
          ],
          "heatmap": [
           {
            "colorbar": {
             "outlinewidth": 0,
             "ticks": ""
            },
            "colorscale": [
             [
              0,
              "#0d0887"
             ],
             [
              0.1111111111111111,
              "#46039f"
             ],
             [
              0.2222222222222222,
              "#7201a8"
             ],
             [
              0.3333333333333333,
              "#9c179e"
             ],
             [
              0.4444444444444444,
              "#bd3786"
             ],
             [
              0.5555555555555556,
              "#d8576b"
             ],
             [
              0.6666666666666666,
              "#ed7953"
             ],
             [
              0.7777777777777778,
              "#fb9f3a"
             ],
             [
              0.8888888888888888,
              "#fdca26"
             ],
             [
              1,
              "#f0f921"
             ]
            ],
            "type": "heatmap"
           }
          ],
          "heatmapgl": [
           {
            "colorbar": {
             "outlinewidth": 0,
             "ticks": ""
            },
            "colorscale": [
             [
              0,
              "#0d0887"
             ],
             [
              0.1111111111111111,
              "#46039f"
             ],
             [
              0.2222222222222222,
              "#7201a8"
             ],
             [
              0.3333333333333333,
              "#9c179e"
             ],
             [
              0.4444444444444444,
              "#bd3786"
             ],
             [
              0.5555555555555556,
              "#d8576b"
             ],
             [
              0.6666666666666666,
              "#ed7953"
             ],
             [
              0.7777777777777778,
              "#fb9f3a"
             ],
             [
              0.8888888888888888,
              "#fdca26"
             ],
             [
              1,
              "#f0f921"
             ]
            ],
            "type": "heatmapgl"
           }
          ],
          "histogram": [
           {
            "marker": {
             "pattern": {
              "fillmode": "overlay",
              "size": 10,
              "solidity": 0.2
             }
            },
            "type": "histogram"
           }
          ],
          "histogram2d": [
           {
            "colorbar": {
             "outlinewidth": 0,
             "ticks": ""
            },
            "colorscale": [
             [
              0,
              "#0d0887"
             ],
             [
              0.1111111111111111,
              "#46039f"
             ],
             [
              0.2222222222222222,
              "#7201a8"
             ],
             [
              0.3333333333333333,
              "#9c179e"
             ],
             [
              0.4444444444444444,
              "#bd3786"
             ],
             [
              0.5555555555555556,
              "#d8576b"
             ],
             [
              0.6666666666666666,
              "#ed7953"
             ],
             [
              0.7777777777777778,
              "#fb9f3a"
             ],
             [
              0.8888888888888888,
              "#fdca26"
             ],
             [
              1,
              "#f0f921"
             ]
            ],
            "type": "histogram2d"
           }
          ],
          "histogram2dcontour": [
           {
            "colorbar": {
             "outlinewidth": 0,
             "ticks": ""
            },
            "colorscale": [
             [
              0,
              "#0d0887"
             ],
             [
              0.1111111111111111,
              "#46039f"
             ],
             [
              0.2222222222222222,
              "#7201a8"
             ],
             [
              0.3333333333333333,
              "#9c179e"
             ],
             [
              0.4444444444444444,
              "#bd3786"
             ],
             [
              0.5555555555555556,
              "#d8576b"
             ],
             [
              0.6666666666666666,
              "#ed7953"
             ],
             [
              0.7777777777777778,
              "#fb9f3a"
             ],
             [
              0.8888888888888888,
              "#fdca26"
             ],
             [
              1,
              "#f0f921"
             ]
            ],
            "type": "histogram2dcontour"
           }
          ],
          "mesh3d": [
           {
            "colorbar": {
             "outlinewidth": 0,
             "ticks": ""
            },
            "type": "mesh3d"
           }
          ],
          "parcoords": [
           {
            "line": {
             "colorbar": {
              "outlinewidth": 0,
              "ticks": ""
             }
            },
            "type": "parcoords"
           }
          ],
          "pie": [
           {
            "automargin": true,
            "type": "pie"
           }
          ],
          "scatter": [
           {
            "fillpattern": {
             "fillmode": "overlay",
             "size": 10,
             "solidity": 0.2
            },
            "type": "scatter"
           }
          ],
          "scatter3d": [
           {
            "line": {
             "colorbar": {
              "outlinewidth": 0,
              "ticks": ""
             }
            },
            "marker": {
             "colorbar": {
              "outlinewidth": 0,
              "ticks": ""
             }
            },
            "type": "scatter3d"
           }
          ],
          "scattercarpet": [
           {
            "marker": {
             "colorbar": {
              "outlinewidth": 0,
              "ticks": ""
             }
            },
            "type": "scattercarpet"
           }
          ],
          "scattergeo": [
           {
            "marker": {
             "colorbar": {
              "outlinewidth": 0,
              "ticks": ""
             }
            },
            "type": "scattergeo"
           }
          ],
          "scattergl": [
           {
            "marker": {
             "colorbar": {
              "outlinewidth": 0,
              "ticks": ""
             }
            },
            "type": "scattergl"
           }
          ],
          "scattermapbox": [
           {
            "marker": {
             "colorbar": {
              "outlinewidth": 0,
              "ticks": ""
             }
            },
            "type": "scattermapbox"
           }
          ],
          "scatterpolar": [
           {
            "marker": {
             "colorbar": {
              "outlinewidth": 0,
              "ticks": ""
             }
            },
            "type": "scatterpolar"
           }
          ],
          "scatterpolargl": [
           {
            "marker": {
             "colorbar": {
              "outlinewidth": 0,
              "ticks": ""
             }
            },
            "type": "scatterpolargl"
           }
          ],
          "scatterternary": [
           {
            "marker": {
             "colorbar": {
              "outlinewidth": 0,
              "ticks": ""
             }
            },
            "type": "scatterternary"
           }
          ],
          "surface": [
           {
            "colorbar": {
             "outlinewidth": 0,
             "ticks": ""
            },
            "colorscale": [
             [
              0,
              "#0d0887"
             ],
             [
              0.1111111111111111,
              "#46039f"
             ],
             [
              0.2222222222222222,
              "#7201a8"
             ],
             [
              0.3333333333333333,
              "#9c179e"
             ],
             [
              0.4444444444444444,
              "#bd3786"
             ],
             [
              0.5555555555555556,
              "#d8576b"
             ],
             [
              0.6666666666666666,
              "#ed7953"
             ],
             [
              0.7777777777777778,
              "#fb9f3a"
             ],
             [
              0.8888888888888888,
              "#fdca26"
             ],
             [
              1,
              "#f0f921"
             ]
            ],
            "type": "surface"
           }
          ],
          "table": [
           {
            "cells": {
             "fill": {
              "color": "#EBF0F8"
             },
             "line": {
              "color": "white"
             }
            },
            "header": {
             "fill": {
              "color": "#C8D4E3"
             },
             "line": {
              "color": "white"
             }
            },
            "type": "table"
           }
          ]
         },
         "layout": {
          "annotationdefaults": {
           "arrowcolor": "#2a3f5f",
           "arrowhead": 0,
           "arrowwidth": 1
          },
          "autotypenumbers": "strict",
          "coloraxis": {
           "colorbar": {
            "outlinewidth": 0,
            "ticks": ""
           }
          },
          "colorscale": {
           "diverging": [
            [
             0,
             "#8e0152"
            ],
            [
             0.1,
             "#c51b7d"
            ],
            [
             0.2,
             "#de77ae"
            ],
            [
             0.3,
             "#f1b6da"
            ],
            [
             0.4,
             "#fde0ef"
            ],
            [
             0.5,
             "#f7f7f7"
            ],
            [
             0.6,
             "#e6f5d0"
            ],
            [
             0.7,
             "#b8e186"
            ],
            [
             0.8,
             "#7fbc41"
            ],
            [
             0.9,
             "#4d9221"
            ],
            [
             1,
             "#276419"
            ]
           ],
           "sequential": [
            [
             0,
             "#0d0887"
            ],
            [
             0.1111111111111111,
             "#46039f"
            ],
            [
             0.2222222222222222,
             "#7201a8"
            ],
            [
             0.3333333333333333,
             "#9c179e"
            ],
            [
             0.4444444444444444,
             "#bd3786"
            ],
            [
             0.5555555555555556,
             "#d8576b"
            ],
            [
             0.6666666666666666,
             "#ed7953"
            ],
            [
             0.7777777777777778,
             "#fb9f3a"
            ],
            [
             0.8888888888888888,
             "#fdca26"
            ],
            [
             1,
             "#f0f921"
            ]
           ],
           "sequentialminus": [
            [
             0,
             "#0d0887"
            ],
            [
             0.1111111111111111,
             "#46039f"
            ],
            [
             0.2222222222222222,
             "#7201a8"
            ],
            [
             0.3333333333333333,
             "#9c179e"
            ],
            [
             0.4444444444444444,
             "#bd3786"
            ],
            [
             0.5555555555555556,
             "#d8576b"
            ],
            [
             0.6666666666666666,
             "#ed7953"
            ],
            [
             0.7777777777777778,
             "#fb9f3a"
            ],
            [
             0.8888888888888888,
             "#fdca26"
            ],
            [
             1,
             "#f0f921"
            ]
           ]
          },
          "colorway": [
           "#636efa",
           "#EF553B",
           "#00cc96",
           "#ab63fa",
           "#FFA15A",
           "#19d3f3",
           "#FF6692",
           "#B6E880",
           "#FF97FF",
           "#FECB52"
          ],
          "font": {
           "color": "#2a3f5f"
          },
          "geo": {
           "bgcolor": "white",
           "lakecolor": "white",
           "landcolor": "#E5ECF6",
           "showlakes": true,
           "showland": true,
           "subunitcolor": "white"
          },
          "hoverlabel": {
           "align": "left"
          },
          "hovermode": "closest",
          "mapbox": {
           "style": "light"
          },
          "paper_bgcolor": "white",
          "plot_bgcolor": "#E5ECF6",
          "polar": {
           "angularaxis": {
            "gridcolor": "white",
            "linecolor": "white",
            "ticks": ""
           },
           "bgcolor": "#E5ECF6",
           "radialaxis": {
            "gridcolor": "white",
            "linecolor": "white",
            "ticks": ""
           }
          },
          "scene": {
           "xaxis": {
            "backgroundcolor": "#E5ECF6",
            "gridcolor": "white",
            "gridwidth": 2,
            "linecolor": "white",
            "showbackground": true,
            "ticks": "",
            "zerolinecolor": "white"
           },
           "yaxis": {
            "backgroundcolor": "#E5ECF6",
            "gridcolor": "white",
            "gridwidth": 2,
            "linecolor": "white",
            "showbackground": true,
            "ticks": "",
            "zerolinecolor": "white"
           },
           "zaxis": {
            "backgroundcolor": "#E5ECF6",
            "gridcolor": "white",
            "gridwidth": 2,
            "linecolor": "white",
            "showbackground": true,
            "ticks": "",
            "zerolinecolor": "white"
           }
          },
          "shapedefaults": {
           "line": {
            "color": "#2a3f5f"
           }
          },
          "ternary": {
           "aaxis": {
            "gridcolor": "white",
            "linecolor": "white",
            "ticks": ""
           },
           "baxis": {
            "gridcolor": "white",
            "linecolor": "white",
            "ticks": ""
           },
           "bgcolor": "#E5ECF6",
           "caxis": {
            "gridcolor": "white",
            "linecolor": "white",
            "ticks": ""
           }
          },
          "title": {
           "x": 0.05
          },
          "xaxis": {
           "automargin": true,
           "gridcolor": "white",
           "linecolor": "white",
           "ticks": "",
           "title": {
            "standoff": 15
           },
           "zerolinecolor": "white",
           "zerolinewidth": 2
          },
          "yaxis": {
           "automargin": true,
           "gridcolor": "white",
           "linecolor": "white",
           "ticks": "",
           "title": {
            "standoff": 15
           },
           "zerolinecolor": "white",
           "zerolinewidth": 2
          }
         }
        },
        "xaxis": {
         "anchor": "y",
         "domain": [
          0,
          1
         ],
         "title": {
          "text": "x"
         }
        },
        "yaxis": {
         "anchor": "x",
         "domain": [
          0,
          1
         ],
         "title": {
          "text": "count"
         }
        }
       }
      },
      "text/html": [
       "<div>                            <div id=\"a7e1816a-4075-4cb2-adfb-255363de13e7\" class=\"plotly-graph-div\" style=\"height:525px; width:100%;\"></div>            <script type=\"text/javascript\">                require([\"plotly\"], function(Plotly) {                    window.PLOTLYENV=window.PLOTLYENV || {};                                    if (document.getElementById(\"a7e1816a-4075-4cb2-adfb-255363de13e7\")) {                    Plotly.newPlot(                        \"a7e1816a-4075-4cb2-adfb-255363de13e7\",                        [{\"alignmentgroup\":\"True\",\"bingroup\":\"x\",\"hovertemplate\":\"x=%{x}\\u003cbr\\u003ecount=%{y}\\u003cextra\\u003e\\u003c\\u002fextra\\u003e\",\"legendgroup\":\"\",\"marker\":{\"color\":\"#636efa\",\"pattern\":{\"shape\":\"\"}},\"name\":\"\",\"offsetgroup\":\"\",\"orientation\":\"v\",\"showlegend\":false,\"x\":[3.2,3.0,3.8,3.4,3.4,4.3,2.8,3.3,2.2,3.6,3.9,3.0,3.5,2.0,2.4,2.9,2.7,3.8,3.7,1.4,3.7,4.7,2.3,1.6,4.3,5.3,3.4,2.7,3.0,3.9,3.5,2.8,3.8,2.4,2.5,4.0,1.1,2.9,4.3,2.6,2.4,5.3,2.7,3.2,2.2,3.1,3.4,3.7,1.7,4.4,3.7,2.5,2.7,2.9,1.2,3.3,5.4,4.3,5.3,-0.8,4.8,1.5,4.6,4.6,3.2,2.2,1.5,3.8,1.7,4.7,3.6,2.5,3.3,3.3,4.7,1.5,2.4,0.9,4.2,4.2,2.5,3.0,2.0,4.2,3.6,3.7,2.4,3.4,4.0,4.8,2.6,4.8,1.9,4.0,3.6,4.4,0.7,3.5,4.6,2.9,2.8,1.3,0.7,4.1,2.1,3.6,3.9,2.8,3.1,3.1,5.3,4.8,2.9,4.2,3.7,3.3,3.6,2.5,2.8,3.4,2.9,4.3,2.9,5.4,1.3,4.8,2.1,3.5,2.2,5.0,4.1,5.3,4.4,3.0,2.3,3.3,2.8,1.7,5.4,1.8,4.4,3.7,4.7,4.3,4.9,2.5,2.9,3.5,4.9,5.4,1.9,2.1,0.9,3.1,1.0,2.9,4.2,2.1,1.0,2.9,2.4,5.4,4.8,3.2,3.6,2.5,5.7,2.2,4.8,2.8,1.9,4.1,2.4,2.4,2.9,4.2,3.3,3.3,2.5,2.0,3.0,2.9,3.9,5.1,4.8,3.0,2.3,4.3,2.4,2.9,3.5,2.4,1.0,3.2,3.1,2.4,2.6,2.7,4.4,4.5,4.3,4.6,3.4,4.3,3.5,5.6,5.7,2.2,4.1,2.8,3.8,3.2,3.7,3.0,3.0,3.3,5.2,4.3,0.9,5.2,2.8,3.9,2.9,2.1,4.4,5.0,2.3,2.5,3.6,2.9,1.5,0.0,4.8,2.6,4.0,3.6,1.2,3.6,4.9,4.5,2.7,4.6,2.5,3.7,3.9,1.9,3.7,4.0,2.6,1.9,1.3,5.1,2.8,3.8,3.3,1.9,4.1,3.0,4.4,2.9,2.8,0.2,5.5,2.7,4.9,4.6,3.9,2.4,4.3,3.7,4.4,3.4,3.6,2.7,4.3,3.4,1.4,2.2,4.2,4.3,2.4,1.3,3.3,4.8,2.5,3.2,4.5,4.9,1.7,2.8,3.3,3.6,3.0,4.5,3.8,4.1,2.1,5.8,3.0,4.2,3.5,4.6,1.0,3.3,2.8,3.2,2.1,3.4,2.7,2.2,3.8,4.7,3.6,2.4,3.8,3.0,1.8,2.5,1.8,2.6,5.5,2.4,3.7,4.6,3.9,2.4,3.0,5.0,3.7,4.1,2.3,3.5,3.6,4.0,2.8,2.5,4.7,2.3,3.9,3.6,2.5,2.6,3.9,2.9,4.8,4.0,3.5,3.5,3.3,2.0,3.2,3.3,4.8,2.4,1.6,3.6,3.7,4.6,3.1,2.6,4.6,1.2,5.5,2.7,2.9,1.4,4.1,4.0,3.9,1.4,1.5,3.9,4.1,2.7,4.8,5.6,2.4,1.6,2.8,1.7,4.1,3.1,1.1,2.2,3.5,3.2,3.6,3.1,3.9,3.4,2.0,4.5,2.0,3.6,5.7,2.7,3.0,4.9,5.0,2.2,2.9,4.2,3.3,4.5,3.2,1.9,5.2,5.2,3.5,3.3,1.5,2.1,3.9,1.5,2.4,4.4,1.7,2.4,4.3,4.9,2.1,2.8,3.7,3.6,3.5,5.0,2.8,3.6,3.3,1.7,2.4,3.9,2.5,3.7,3.7,3.5,3.6,4.3,2.0,1.2,2.8,4.1,3.5,2.2,4.0,2.4,4.6,5.1,3.0,4.7,3.1,3.4,3.6,3.1,4.2,2.8,3.6,3.4,4.3,4.0,2.8,1.1,2.8,3.4,2.8,2.8,3.1,2.1,3.0,2.7,2.8,2.4,2.1,3.7,3.9,5.2,3.2,3.8,4.1,3.4,2.3,3.2,3.9,2.5,3.2,5.2,2.8,3.5,4.8,2.3,3.9,1.0,2.6,4.3,4.2,2.2,4.0,5.5,6.0,3.7,3.1,3.5,4.3,1.4,3.5,2.8,4.4,2.5,2.8,3.1,2.8,3.2,5.3,3.3,2.3,4.0,5.4,4.7,5.7,4.0,3.6,4.1,5.5,3.2,2.5,2.8,4.5,3.6,3.2,4.1,3.7,1.4,2.2,3.3,1.7,3.9,4.8,3.1,1.3,4.1,4.6,2.0,5.6,4.3,5.0,0.7,3.0,3.8,0.8,2.9,2.6,5.0,4.2,4.2,2.9,2.5,2.7,4.0,0.4,4.2,3.6,4.3,0.8,3.5,2.0,3.7,2.2,2.0,2.6,2.0,2.9,3.0,3.6,3.5,5.6,5.1,1.1,4.6,2.4,3.7,3.2,3.4,2.3,3.6,2.5,4.2,1.8,4.2,3.7,2.1,2.9,2.6,3.9,2.1,4.1,4.3,3.7,2.2,3.5,3.1,1.1,3.5,3.6,3.0,2.1,2.8,4.1,3.0,3.6,4.6,4.2,5.9,3.7,3.8,2.4,2.9,3.3,3.0,2.7,3.2,3.7,2.3,4.4,3.6,4.0,2.7,5.2,3.5,2.6,4.2,2.9,3.9,4.7,2.8,2.7,1.8,2.5,2.4,3.9,5.0,2.5,1.0,4.1,3.2,2.3,2.5,5.2,2.8,3.2,1.4,5.2,2.6,3.3,4.1,3.2,1.9,2.6,4.6,3.1,2.1,2.3,3.8,4.2,2.6,3.5,3.9,4.0,5.7,2.4,4.4,4.7,4.0,2.3,4.9,2.0,1.7,4.0,2.8,4.1,3.5,4.3,1.9,4.2,3.9,1.4,4.1,3.0,2.9,2.9,4.8,1.8,2.0,1.9,3.1,3.0,4.0,3.7,0.3,1.3,0.2,4.4,4.9,2.6,2.6,3.9,3.2,4.3,5.2,3.3,1.9,3.4,0.4,2.5,2.4,0.6,3.8,3.9,1.5,1.1,2.4,4.4,4.9,1.1,5.9,4.2,3.4,3.7,2.9,3.5,2.9,1.4,4.9,5.0,1.5,2.7,3.9,1.5,2.8,3.1,2.3,5.2,2.5,4.6,3.1,4.0,4.1,1.7,4.9,4.5,0.5,1.4,-0.5,3.3,2.4,3.1,2.8,0.6,4.0,1.0,4.3,1.8,3.4,2.3,2.8,3.3,3.4,2.7,-0.7,3.7,1.6,3.5,4.5,2.2,4.9,3.5,2.9,5.2,2.6,1.8,2.4,4.3,1.9,4.0,1.4,2.9,2.2,3.3,3.0,4.0,2.9,2.1,3.6,4.2,2.7,2.8,4.3,5.4,0.3,2.5,3.1,2.8,3.9,3.4,2.5,3.2,4.3,3.9,4.6,4.0,3.4,3.1,4.3,4.4,3.0,3.5,3.7,4.8,4.6,4.3,4.1,3.0,4.1,2.8,4.4,4.0,1.9,1.8,4.6,2.1,3.8,3.6,3.4,2.6,0.2,4.4,2.1,4.8,1.5,2.5,4.4,2.8,1.7,5.4,3.9,4.4,0.3,3.7,4.3,2.0,2.9,2.0,4.1,4.5,2.7,0.8,5.1,4.2,3.2,3.1,3.3,1.0,5.6,1.6,5.4,1.3,0.3,3.9,3.1,4.5,3.1,4.3,2.1,4.2,3.2,3.4,4.1,4.7,3.2,4.3,3.1,2.1,4.1,1.1,3.2,4.0,3.1,4.6,5.0,4.6,4.4,3.4,2.5,2.9,2.6,2.3,3.7,4.2,1.7,2.2,2.8,1.9,3.9,5.1,3.3,2.2,4.1,3.0,4.2,4.8,2.7,3.8,3.5,4.4,3.5,2.6,4.9,3.8,5.6,3.2,3.8,4.5,3.8,4.0,3.6,3.2,1.9,3.0,4.0,2.0,3.9,3.6,4.6,3.5,4.6,4.4,3.5,3.1,5.9,2.8,2.1,4.4,1.5,2.9,5.0,1.5,5.3,3.9,2.3,2.3,2.0,3.7,3.0,2.5,3.0,2.1,4.5,4.4,3.9,3.3,3.1,2.5,5.2,1.8,2.6,4.7,3.9,2.3,1.6,3.3,3.7,4.6,1.0,3.2,4.0,6.1,2.0,5.1,3.5,4.8,2.4,2.6,4.8,3.4,4.5,3.5,4.0,2.2,2.9,3.2,5.3,2.8,4.8,2.7,2.7,3.0,3.3,2.4,1.3,2.6,4.1],\"xaxis\":\"x\",\"yaxis\":\"y\",\"type\":\"histogram\"}],                        {\"template\":{\"data\":{\"histogram2dcontour\":[{\"type\":\"histogram2dcontour\",\"colorbar\":{\"outlinewidth\":0,\"ticks\":\"\"},\"colorscale\":[[0.0,\"#0d0887\"],[0.1111111111111111,\"#46039f\"],[0.2222222222222222,\"#7201a8\"],[0.3333333333333333,\"#9c179e\"],[0.4444444444444444,\"#bd3786\"],[0.5555555555555556,\"#d8576b\"],[0.6666666666666666,\"#ed7953\"],[0.7777777777777778,\"#fb9f3a\"],[0.8888888888888888,\"#fdca26\"],[1.0,\"#f0f921\"]]}],\"choropleth\":[{\"type\":\"choropleth\",\"colorbar\":{\"outlinewidth\":0,\"ticks\":\"\"}}],\"histogram2d\":[{\"type\":\"histogram2d\",\"colorbar\":{\"outlinewidth\":0,\"ticks\":\"\"},\"colorscale\":[[0.0,\"#0d0887\"],[0.1111111111111111,\"#46039f\"],[0.2222222222222222,\"#7201a8\"],[0.3333333333333333,\"#9c179e\"],[0.4444444444444444,\"#bd3786\"],[0.5555555555555556,\"#d8576b\"],[0.6666666666666666,\"#ed7953\"],[0.7777777777777778,\"#fb9f3a\"],[0.8888888888888888,\"#fdca26\"],[1.0,\"#f0f921\"]]}],\"heatmap\":[{\"type\":\"heatmap\",\"colorbar\":{\"outlinewidth\":0,\"ticks\":\"\"},\"colorscale\":[[0.0,\"#0d0887\"],[0.1111111111111111,\"#46039f\"],[0.2222222222222222,\"#7201a8\"],[0.3333333333333333,\"#9c179e\"],[0.4444444444444444,\"#bd3786\"],[0.5555555555555556,\"#d8576b\"],[0.6666666666666666,\"#ed7953\"],[0.7777777777777778,\"#fb9f3a\"],[0.8888888888888888,\"#fdca26\"],[1.0,\"#f0f921\"]]}],\"heatmapgl\":[{\"type\":\"heatmapgl\",\"colorbar\":{\"outlinewidth\":0,\"ticks\":\"\"},\"colorscale\":[[0.0,\"#0d0887\"],[0.1111111111111111,\"#46039f\"],[0.2222222222222222,\"#7201a8\"],[0.3333333333333333,\"#9c179e\"],[0.4444444444444444,\"#bd3786\"],[0.5555555555555556,\"#d8576b\"],[0.6666666666666666,\"#ed7953\"],[0.7777777777777778,\"#fb9f3a\"],[0.8888888888888888,\"#fdca26\"],[1.0,\"#f0f921\"]]}],\"contourcarpet\":[{\"type\":\"contourcarpet\",\"colorbar\":{\"outlinewidth\":0,\"ticks\":\"\"}}],\"contour\":[{\"type\":\"contour\",\"colorbar\":{\"outlinewidth\":0,\"ticks\":\"\"},\"colorscale\":[[0.0,\"#0d0887\"],[0.1111111111111111,\"#46039f\"],[0.2222222222222222,\"#7201a8\"],[0.3333333333333333,\"#9c179e\"],[0.4444444444444444,\"#bd3786\"],[0.5555555555555556,\"#d8576b\"],[0.6666666666666666,\"#ed7953\"],[0.7777777777777778,\"#fb9f3a\"],[0.8888888888888888,\"#fdca26\"],[1.0,\"#f0f921\"]]}],\"surface\":[{\"type\":\"surface\",\"colorbar\":{\"outlinewidth\":0,\"ticks\":\"\"},\"colorscale\":[[0.0,\"#0d0887\"],[0.1111111111111111,\"#46039f\"],[0.2222222222222222,\"#7201a8\"],[0.3333333333333333,\"#9c179e\"],[0.4444444444444444,\"#bd3786\"],[0.5555555555555556,\"#d8576b\"],[0.6666666666666666,\"#ed7953\"],[0.7777777777777778,\"#fb9f3a\"],[0.8888888888888888,\"#fdca26\"],[1.0,\"#f0f921\"]]}],\"mesh3d\":[{\"type\":\"mesh3d\",\"colorbar\":{\"outlinewidth\":0,\"ticks\":\"\"}}],\"scatter\":[{\"fillpattern\":{\"fillmode\":\"overlay\",\"size\":10,\"solidity\":0.2},\"type\":\"scatter\"}],\"parcoords\":[{\"type\":\"parcoords\",\"line\":{\"colorbar\":{\"outlinewidth\":0,\"ticks\":\"\"}}}],\"scatterpolargl\":[{\"type\":\"scatterpolargl\",\"marker\":{\"colorbar\":{\"outlinewidth\":0,\"ticks\":\"\"}}}],\"bar\":[{\"error_x\":{\"color\":\"#2a3f5f\"},\"error_y\":{\"color\":\"#2a3f5f\"},\"marker\":{\"line\":{\"color\":\"#E5ECF6\",\"width\":0.5},\"pattern\":{\"fillmode\":\"overlay\",\"size\":10,\"solidity\":0.2}},\"type\":\"bar\"}],\"scattergeo\":[{\"type\":\"scattergeo\",\"marker\":{\"colorbar\":{\"outlinewidth\":0,\"ticks\":\"\"}}}],\"scatterpolar\":[{\"type\":\"scatterpolar\",\"marker\":{\"colorbar\":{\"outlinewidth\":0,\"ticks\":\"\"}}}],\"histogram\":[{\"marker\":{\"pattern\":{\"fillmode\":\"overlay\",\"size\":10,\"solidity\":0.2}},\"type\":\"histogram\"}],\"scattergl\":[{\"type\":\"scattergl\",\"marker\":{\"colorbar\":{\"outlinewidth\":0,\"ticks\":\"\"}}}],\"scatter3d\":[{\"type\":\"scatter3d\",\"line\":{\"colorbar\":{\"outlinewidth\":0,\"ticks\":\"\"}},\"marker\":{\"colorbar\":{\"outlinewidth\":0,\"ticks\":\"\"}}}],\"scattermapbox\":[{\"type\":\"scattermapbox\",\"marker\":{\"colorbar\":{\"outlinewidth\":0,\"ticks\":\"\"}}}],\"scatterternary\":[{\"type\":\"scatterternary\",\"marker\":{\"colorbar\":{\"outlinewidth\":0,\"ticks\":\"\"}}}],\"scattercarpet\":[{\"type\":\"scattercarpet\",\"marker\":{\"colorbar\":{\"outlinewidth\":0,\"ticks\":\"\"}}}],\"carpet\":[{\"aaxis\":{\"endlinecolor\":\"#2a3f5f\",\"gridcolor\":\"white\",\"linecolor\":\"white\",\"minorgridcolor\":\"white\",\"startlinecolor\":\"#2a3f5f\"},\"baxis\":{\"endlinecolor\":\"#2a3f5f\",\"gridcolor\":\"white\",\"linecolor\":\"white\",\"minorgridcolor\":\"white\",\"startlinecolor\":\"#2a3f5f\"},\"type\":\"carpet\"}],\"table\":[{\"cells\":{\"fill\":{\"color\":\"#EBF0F8\"},\"line\":{\"color\":\"white\"}},\"header\":{\"fill\":{\"color\":\"#C8D4E3\"},\"line\":{\"color\":\"white\"}},\"type\":\"table\"}],\"barpolar\":[{\"marker\":{\"line\":{\"color\":\"#E5ECF6\",\"width\":0.5},\"pattern\":{\"fillmode\":\"overlay\",\"size\":10,\"solidity\":0.2}},\"type\":\"barpolar\"}],\"pie\":[{\"automargin\":true,\"type\":\"pie\"}]},\"layout\":{\"autotypenumbers\":\"strict\",\"colorway\":[\"#636efa\",\"#EF553B\",\"#00cc96\",\"#ab63fa\",\"#FFA15A\",\"#19d3f3\",\"#FF6692\",\"#B6E880\",\"#FF97FF\",\"#FECB52\"],\"font\":{\"color\":\"#2a3f5f\"},\"hovermode\":\"closest\",\"hoverlabel\":{\"align\":\"left\"},\"paper_bgcolor\":\"white\",\"plot_bgcolor\":\"#E5ECF6\",\"polar\":{\"bgcolor\":\"#E5ECF6\",\"angularaxis\":{\"gridcolor\":\"white\",\"linecolor\":\"white\",\"ticks\":\"\"},\"radialaxis\":{\"gridcolor\":\"white\",\"linecolor\":\"white\",\"ticks\":\"\"}},\"ternary\":{\"bgcolor\":\"#E5ECF6\",\"aaxis\":{\"gridcolor\":\"white\",\"linecolor\":\"white\",\"ticks\":\"\"},\"baxis\":{\"gridcolor\":\"white\",\"linecolor\":\"white\",\"ticks\":\"\"},\"caxis\":{\"gridcolor\":\"white\",\"linecolor\":\"white\",\"ticks\":\"\"}},\"coloraxis\":{\"colorbar\":{\"outlinewidth\":0,\"ticks\":\"\"}},\"colorscale\":{\"sequential\":[[0.0,\"#0d0887\"],[0.1111111111111111,\"#46039f\"],[0.2222222222222222,\"#7201a8\"],[0.3333333333333333,\"#9c179e\"],[0.4444444444444444,\"#bd3786\"],[0.5555555555555556,\"#d8576b\"],[0.6666666666666666,\"#ed7953\"],[0.7777777777777778,\"#fb9f3a\"],[0.8888888888888888,\"#fdca26\"],[1.0,\"#f0f921\"]],\"sequentialminus\":[[0.0,\"#0d0887\"],[0.1111111111111111,\"#46039f\"],[0.2222222222222222,\"#7201a8\"],[0.3333333333333333,\"#9c179e\"],[0.4444444444444444,\"#bd3786\"],[0.5555555555555556,\"#d8576b\"],[0.6666666666666666,\"#ed7953\"],[0.7777777777777778,\"#fb9f3a\"],[0.8888888888888888,\"#fdca26\"],[1.0,\"#f0f921\"]],\"diverging\":[[0,\"#8e0152\"],[0.1,\"#c51b7d\"],[0.2,\"#de77ae\"],[0.3,\"#f1b6da\"],[0.4,\"#fde0ef\"],[0.5,\"#f7f7f7\"],[0.6,\"#e6f5d0\"],[0.7,\"#b8e186\"],[0.8,\"#7fbc41\"],[0.9,\"#4d9221\"],[1,\"#276419\"]]},\"xaxis\":{\"gridcolor\":\"white\",\"linecolor\":\"white\",\"ticks\":\"\",\"title\":{\"standoff\":15},\"zerolinecolor\":\"white\",\"automargin\":true,\"zerolinewidth\":2},\"yaxis\":{\"gridcolor\":\"white\",\"linecolor\":\"white\",\"ticks\":\"\",\"title\":{\"standoff\":15},\"zerolinecolor\":\"white\",\"automargin\":true,\"zerolinewidth\":2},\"scene\":{\"xaxis\":{\"backgroundcolor\":\"#E5ECF6\",\"gridcolor\":\"white\",\"linecolor\":\"white\",\"showbackground\":true,\"ticks\":\"\",\"zerolinecolor\":\"white\",\"gridwidth\":2},\"yaxis\":{\"backgroundcolor\":\"#E5ECF6\",\"gridcolor\":\"white\",\"linecolor\":\"white\",\"showbackground\":true,\"ticks\":\"\",\"zerolinecolor\":\"white\",\"gridwidth\":2},\"zaxis\":{\"backgroundcolor\":\"#E5ECF6\",\"gridcolor\":\"white\",\"linecolor\":\"white\",\"showbackground\":true,\"ticks\":\"\",\"zerolinecolor\":\"white\",\"gridwidth\":2}},\"shapedefaults\":{\"line\":{\"color\":\"#2a3f5f\"}},\"annotationdefaults\":{\"arrowcolor\":\"#2a3f5f\",\"arrowhead\":0,\"arrowwidth\":1},\"geo\":{\"bgcolor\":\"white\",\"landcolor\":\"#E5ECF6\",\"subunitcolor\":\"white\",\"showland\":true,\"showlakes\":true,\"lakecolor\":\"white\"},\"title\":{\"x\":0.05},\"mapbox\":{\"style\":\"light\"}}},\"xaxis\":{\"anchor\":\"y\",\"domain\":[0.0,1.0],\"title\":{\"text\":\"x\"}},\"yaxis\":{\"anchor\":\"x\",\"domain\":[0.0,1.0],\"title\":{\"text\":\"count\"}},\"legend\":{\"tracegroupgap\":0},\"margin\":{\"t\":60},\"barmode\":\"relative\"},                        {\"responsive\": true}                    ).then(function(){\n",
       "                            \n",
       "var gd = document.getElementById('a7e1816a-4075-4cb2-adfb-255363de13e7');\n",
       "var x = new MutationObserver(function (mutations, observer) {{\n",
       "        var display = window.getComputedStyle(gd).display;\n",
       "        if (!display || display === 'none') {{\n",
       "            console.log([gd, 'removed!']);\n",
       "            Plotly.purge(gd);\n",
       "            observer.disconnect();\n",
       "        }}\n",
       "}});\n",
       "\n",
       "// Listen for the removal of the full notebook cells\n",
       "var notebookContainer = gd.closest('#notebook-container');\n",
       "if (notebookContainer) {{\n",
       "    x.observe(notebookContainer, {childList: true});\n",
       "}}\n",
       "\n",
       "// Listen for the clearing of the current output cell\n",
       "var outputEl = gd.closest('.output');\n",
       "if (outputEl) {{\n",
       "    x.observe(outputEl, {childList: true});\n",
       "}}\n",
       "\n",
       "                        })                };                });            </script>        </div>"
      ]
     },
     "metadata": {},
     "output_type": "display_data"
    }
   ],
   "source": [
    "N = 1000\n",
    "boot_mean=np.zeros(N)\n",
    "np.random.seed(20)\n",
    "for i in range(N):\n",
    "    boot_sample = np.random.choice(df.d,size = len(df.d),replace=True)\n",
    "    boot_mean[i] = np.mean(boot_sample)\n",
    "px.histogram(pd.DataFrame({\"x\":boot_mean}),x=\"x\")\n",
    "\n"
   ]
  },
  {
   "cell_type": "code",
   "execution_count": 30,
   "id": "f7b662a5",
   "metadata": {},
   "outputs": [
    {
     "data": {
      "text/plain": [
       "array([1.    , 5.5025])"
      ]
     },
     "execution_count": 30,
     "metadata": {},
     "output_type": "execute_result"
    }
   ],
   "source": [
    "np.quantile(boot_mean,[0.025,0.975])"
   ]
  },
  {
   "cell_type": "code",
   "execution_count": null,
   "id": "18692107",
   "metadata": {},
   "outputs": [],
   "source": [
    "It is work since the original guess is not in the interval."
   ]
  },
  {
   "cell_type": "markdown",
   "id": "1ffee8ad",
   "metadata": {},
   "source": [
    "##### 9. Have you reviewed the course wiki-textbook and interacted with a ChatBot (or, if that wasn't sufficient, real people in the course piazza discussion board or TA office hours) to help you understand all the material in the tutorial and lecture that you didn't quite follow when you first saw it?<br>"
   ]
  },
  {
   "cell_type": "markdown",
   "id": "5f7e010a",
   "metadata": {},
   "source": [
    "yes"
   ]
  },
  {
   "cell_type": "code",
   "execution_count": null,
   "id": "64d5d263",
   "metadata": {},
   "outputs": [],
   "source": []
  }
 ],
 "metadata": {
  "kernelspec": {
   "display_name": "Python 3 (ipykernel)",
   "language": "python",
   "name": "python3"
  },
  "language_info": {
   "codemirror_mode": {
    "name": "ipython",
    "version": 3
   },
   "file_extension": ".py",
   "mimetype": "text/x-python",
   "name": "python",
   "nbconvert_exporter": "python",
   "pygments_lexer": "ipython3",
   "version": "3.11.6"
  }
 },
 "nbformat": 4,
 "nbformat_minor": 5
}
